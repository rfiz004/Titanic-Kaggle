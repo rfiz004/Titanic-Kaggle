{
 "cells": [
  {
   "cell_type": "code",
   "execution_count": 20,
   "id": "d1ff9b62-0f4b-4328-a065-6040ed57f49e",
   "metadata": {},
   "outputs": [],
   "source": [
    "from sklearn.ensemble import RandomForestClassifier, AdaBoostClassifier, GradientBoostingClassifier, StackingClassifier\n",
    "from xgboost import XGBClassifier\n",
    "from sklearn.linear_model import LogisticRegression\n",
    "import pandas as pd\n",
    "from sklearn.preprocessing import LabelEncoder\n",
    "from sklearn.model_selection import train_test_split\n",
    "from sklearn.metrics import accuracy_score\n",
    "\n",
    "train = pd.read_csv(\"adult.csv\")\n",
    "\n",
    "rf_model = RandomForestClassifier(n_estimators=100, random_state=42)\n",
    "ada_model = AdaBoostClassifier(n_estimators=50, algorithm='SAMME', random_state=42)\n",
    "gb_model = GradientBoostingClassifier(n_estimators=100, random_state=42)\n",
    "xgb_model = XGBClassifier(n_estimators=100, random_state=42, eval_metric='logloss')"
   ]
  },
  {
   "cell_type": "code",
   "execution_count": 22,
   "id": "31ea0724-13f0-4481-8ec1-b2a16a25c353",
   "metadata": {},
   "outputs": [],
   "source": [
    "base_models = [\n",
    "    ('RandomForest', rf_model),\n",
    "    ('AdaBoost', ada_model),\n",
    "    ('GradientBoosting', gb_model),\n",
    "    ('XGBoost', xgb_model)\n",
    "]\n",
    "\n",
    "stacking_model = StackingClassifier(\n",
    "    estimators=base_models,\n",
    "    final_estimator=LogisticRegression(),\n",
    "    cv=5  \n",
    ")"
   ]
  },
  {
   "cell_type": "code",
   "execution_count": 24,
   "id": "0bd61521-898e-4742-bdf8-e13d6448f065",
   "metadata": {},
   "outputs": [],
   "source": [
    "train['sex'] = train['sex'].map({'Male': 0, 'Female': 1})\n",
    "\n",
    "# میانگین برای سن\n",
    "train['age'] = train['age'].fillna(train['age'].median())\n",
    "\n",
    "# حذف ستون‌ های غیرضروری\n",
    "train = train.drop(['marital.status', 'relationship', 'race', 'native.country', 'fnlwgt'], axis=1)\n",
    "\n",
    "# features و target\n",
    "X = train.drop('income', axis=1)\n",
    "y = train['income'].map({'<=50K': 0, '>50K': 1})\n",
    "\n",
    "# جایگزینی مقادیر ?\n",
    "X['workclass'] = X['workclass'].replace('?', 'Unknown')\n",
    "X['occupation'] = X['occupation'].replace('?', 'Unknown')\n",
    "\n",
    "# تبدیل ستون های کتگوریکال از ابجکت به عدد\n",
    "categorical_cols = ['workclass', 'education', 'occupation']\n",
    "for col in categorical_cols:\n",
    "    le = LabelEncoder()\n",
    "    X[col] = le.fit_transform(X[col])\n",
    "    \n",
    "X_train, X_val, y_train, y_val = train_test_split(X, y, test_size=0.2, random_state=42)"
   ]
  },
  {
   "cell_type": "code",
   "execution_count": 27,
   "id": "fdf37809-b30a-4808-82ae-ae7fe3945334",
   "metadata": {},
   "outputs": [
    {
     "name": "stdout",
     "output_type": "stream",
     "text": [
      "Stacking Model Accuracy: 0.8569015814524796\n"
     ]
    }
   ],
   "source": [
    "stacking_model.fit(X_train, y_train)\n",
    "\n",
    "y_pred_stack = stacking_model.predict(X_val)\n",
    "\n",
    "from sklearn.metrics import accuracy_score\n",
    "acc_stack = accuracy_score(y_val, y_pred_stack)\n",
    "print(\"Stacking Model Accuracy:\", acc_stack)"
   ]
  },
  {
   "cell_type": "markdown",
   "id": "feb9c0af-b81d-4f10-9345-90105ab10c02",
   "metadata": {},
   "source": [
    "-------------------------------"
   ]
  },
  {
   "cell_type": "markdown",
   "id": "8fbe1047-e8b0-4ad3-a9f1-5b7ffe0f3a1d",
   "metadata": {},
   "source": [
    "تو این مرحله تصمیم گرفتم پیش بینی های تمام مدل هایی که قبلا آموزش داده بودم یعنی \n",
    "Random Forest - AdaBoost - Gradient Boosting و XGBoost\n",
    "رو با هم ترکیب کنم تا یک مدل نهایی بسازم\n",
    "ایده اش این بود که هر مدل نقاط قوت خودش رو داره و ممکنه بعضی نمونه ها رو درست پیش بینی کنه که بقیه مدل ها اشتباه گرفتن پس با استیکینگ پیش بینی های همه مدل ها رو به عنوان ورودی به یک مدل نهایی میدم\n",
    "این کار باعث شد مدل نهایی از تجربه همه مدل ها استفاده کنه و پیش بینی ها دقیق تر بشه بعد از آموزش استیکینگ دقت مدل نهایی روی داده های ولیدیشن رو حساب کردم و دیدم که عملکرد بهتر از اکثر مدل های منفرد بود"
   ]
  }
 ],
 "metadata": {
  "kernelspec": {
   "display_name": "Python 3 (ipykernel)",
   "language": "python",
   "name": "python3"
  },
  "language_info": {
   "codemirror_mode": {
    "name": "ipython",
    "version": 3
   },
   "file_extension": ".py",
   "mimetype": "text/x-python",
   "name": "python",
   "nbconvert_exporter": "python",
   "pygments_lexer": "ipython3",
   "version": "3.12.7"
  }
 },
 "nbformat": 4,
 "nbformat_minor": 5
}
